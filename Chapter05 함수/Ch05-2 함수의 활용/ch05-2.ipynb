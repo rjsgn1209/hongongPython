{
 "cells": [
  {
   "cell_type": "markdown",
   "metadata": {},
   "source": [
    "### 05-2 함수의 활용\n",
    "---\n",
    "#### ***재귀함수***와 ***변수의 유효범위***"
   ]
  },
  {
   "cell_type": "markdown",
   "metadata": {},
   "source": [
    "> 재귀함수"
   ]
  },
  {
   "cell_type": "code",
   "execution_count": null,
   "metadata": {},
   "outputs": [],
   "source": [
    "# 함수에서 재귀호출: 함수 안에서 자기자신을 호출하는 방식(recursive call)\\\n",
    "def hello():\n",
    "    print('Hello~')\n",
    "    hello()\n",
    "\n",
    "hello()\n",
    "\n",
    "# RecursionError: maximum recursion depth exceeded while calling a Python object"
   ]
  },
  {
   "cell_type": "code",
   "execution_count": 1,
   "metadata": {},
   "outputs": [
    {
     "name": "stdout",
     "output_type": "stream",
     "text": [
      "5 Hello~\n",
      "4 Hello~\n",
      "3 Hello~\n",
      "2 Hello~\n",
      "1 Hello~\n"
     ]
    }
   ],
   "source": [
    "# 재귀호출에 종료 조건 만들기 반드시 !!!\n",
    "def hello(count):\n",
    "    if count == 0:\n",
    "        return \n",
    "    print(count, 'Hello~')\n",
    "    count -= 1\n",
    "    hello(count)\n",
    "\n",
    "hello(5)"
   ]
  },
  {
   "cell_type": "markdown",
   "metadata": {},
   "source": [
    "> 반복문으로 팩토리얼 구하기"
   ]
  },
  {
   "cell_type": "code",
   "execution_count": 4,
   "metadata": {},
   "outputs": [
    {
     "name": "stdout",
     "output_type": "stream",
     "text": [
      "1x2x3x4x5x6x7x8x9x10x\n"
     ]
    },
    {
     "data": {
      "text/plain": [
       "3628800"
      ]
     },
     "execution_count": 4,
     "metadata": {},
     "output_type": "execute_result"
    }
   ],
   "source": [
    "# 5 ! = 5 * 4 * 3 * 2 * 1\n",
    "\n",
    "def factorial(n):\n",
    "    result = 1\n",
    "    text = \"\"\n",
    "    for i in range(1, n + 1):\n",
    "        result *= i\n",
    "        print(text + str(i) + 'x', end='')\n",
    "    print()\n",
    "    return result\n",
    "\n",
    "factorial(10)"
   ]
  },
  {
   "cell_type": "markdown",
   "metadata": {},
   "source": [
    "> 재귀호출로 팩토리얼 구하기"
   ]
  },
  {
   "cell_type": "code",
   "execution_count": 7,
   "metadata": {},
   "outputs": [
    {
     "data": {
      "text/plain": [
       "120"
      ]
     },
     "execution_count": 7,
     "metadata": {},
     "output_type": "execute_result"
    }
   ],
   "source": [
    "# 5! = 5 * 4 * 3 * 2 * 1\n",
    "# n! = n * (n-1) * (n*2) * ..... * 1\n",
    "\n",
    "def factorial(n):\n",
    "    if n == 1:\n",
    "        return 1\n",
    "    return n * factorial(n-1)\n",
    "\n",
    "factorial(5)"
   ]
  },
  {
   "cell_type": "markdown",
   "metadata": {},
   "source": [
    "> 변수의 유효 범위"
   ]
  },
  {
   "cell_type": "code",
   "execution_count": 7,
   "metadata": {},
   "outputs": [
    {
     "name": "stdout",
     "output_type": "stream",
     "text": [
      "m= 10\n",
      "10\n"
     ]
    }
   ],
   "source": [
    "# 변수의 유효 범위(variable scope)\n",
    "# 변수가 선언된 위치에 따라서 해당 변수가 영향을 미치는 범위가 달라진다.\n",
    "\n",
    "# 코드영역, 데이터영역, 스택메모리, 힙메모리\n",
    "\n",
    "# 지역변수/전역변수 \n",
    "m = 100 \n",
    "def out():\n",
    "    global m\n",
    "    m = 10 \n",
    "    print('m=', m)\n",
    "\n",
    "out()\n",
    "print(m)"
   ]
  }
 ],
 "metadata": {
  "interpreter": {
   "hash": "054c0b5073ae8ed56926c5c67113945079b283bacf1a269ae7086b3d9eebd60c"
  },
  "kernelspec": {
   "display_name": "Python 3.10.1 64-bit",
   "language": "python",
   "name": "python3"
  },
  "language_info": {
   "codemirror_mode": {
    "name": "ipython",
    "version": 3
   },
   "file_extension": ".py",
   "mimetype": "text/x-python",
   "name": "python",
   "nbconvert_exporter": "python",
   "pygments_lexer": "ipython3",
   "version": "3.10.1"
  },
  "orig_nbformat": 4
 },
 "nbformat": 4,
 "nbformat_minor": 2
}
