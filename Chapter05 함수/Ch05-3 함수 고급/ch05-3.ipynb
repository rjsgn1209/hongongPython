{
 "cells": [
  {
   "cell_type": "markdown",
   "metadata": {},
   "source": [
    "### 05-3 함수 고급\n",
    "---\n",
    "***튜플(tuple)*** 과 ***람다(lamda)***"
   ]
  },
  {
   "cell_type": "markdown",
   "metadata": {},
   "source": [
    "> 튜플(tuple)"
   ]
  },
  {
   "cell_type": "code",
   "execution_count": null,
   "metadata": {},
   "outputs": [],
   "source": [
    "# 튜플: 함수와 함께 많이 사용되는 리스트와 비슷한 자료형,\n",
    "# 한 번 결정되 요소는 바꿀 수 없다.!!!\n",
    "\n",
    "tu = (10, 20, 30)\n",
    "tu[0]\n",
    "tu[0] = 1"
   ]
  },
  {
   "cell_type": "code",
   "execution_count": 7,
   "metadata": {},
   "outputs": [
    {
     "data": {
      "text/plain": [
       "tuple"
      ]
     },
     "execution_count": 7,
     "metadata": {},
     "output_type": "execute_result"
    }
   ],
   "source": [
    "# 요소를 하나만 가지는 튜플 생성\n",
    "\n",
    "\n",
    "type([273])\n",
    "type((273))\n",
    "type((273,))"
   ]
  },
  {
   "cell_type": "code",
   "execution_count": 16,
   "metadata": {},
   "outputs": [
    {
     "name": "stdout",
     "output_type": "stream",
     "text": [
      "10 20 30 40\n",
      "1 2 3 4 5 6\n"
     ]
    },
    {
     "data": {
      "text/plain": [
       "20"
      ]
     },
     "execution_count": 16,
     "metadata": {},
     "output_type": "execute_result"
    }
   ],
   "source": [
    "# 변수 다중 할당\n",
    "[a, b] = [10, 20]\n",
    "(c, d) = [30, 40]\n",
    "print(a, b, c, d)\n",
    "\n",
    "a, b, c = [1, 2, 3]\n",
    "d, e, f = [4, 5, 6]\n",
    "print(a, b, c, d ,e, f)\n",
    "\n",
    "x = [1, 2, 3]\n",
    "a, b, c = x\n",
    "\n",
    "y = (4, 5, 6)\n",
    "d, e, f = y\n",
    "\n",
    "# 관호 생략\n",
    "tu = 10, 20, 30\n",
    "type(tu)\n",
    "\n",
    "# 변수의 값 교환\n",
    "a, b = 10, 20\n",
    "a, b = b, a\n",
    "a"
   ]
  },
  {
   "cell_type": "markdown",
   "metadata": {},
   "source": [
    "> 튜플과 함수"
   ]
  },
  {
   "cell_type": "code",
   "execution_count": 18,
   "metadata": {},
   "outputs": [
    {
     "name": "stdout",
     "output_type": "stream",
     "text": [
      "10 20\n"
     ]
    }
   ],
   "source": [
    "# 튜플은 함수의 리턴에 많이 사용(여러개의 값을 리턴하고 할당 가능)\n",
    "def test():\n",
    "    return (10, 20)\n",
    "a, b = test()\n",
    "print(a, b)\n"
   ]
  },
  {
   "cell_type": "markdown",
   "metadata": {},
   "source": [
    "### 람다(lambda) : 람다 표현식 (익명함수) <> def "
   ]
  },
  {
   "cell_type": "markdown",
   "metadata": {},
   "source": [
    "> 함수의 매개변수로 함수 전달하기"
   ]
  },
  {
   "cell_type": "code",
   "execution_count": 27,
   "metadata": {},
   "outputs": [
    {
     "name": "stdout",
     "output_type": "stream",
     "text": [
      "안녕하세요~\n",
      "안녕하세요~\n",
      "안녕하세요~\n",
      "안녕하세요~\n",
      "안녕하세요~\n",
      "안녕하세요~\n",
      "안녕하세요~\n",
      "안녕하세요~\n",
      "안녕하세요~\n",
      "안녕하세요~\n"
     ]
    }
   ],
   "source": [
    "def call_10_times(func):\n",
    "    for i in range(10):\n",
    "        func()\n",
    "\n",
    "def print_hello():\n",
    "    print(\"안녕하세요\")\n",
    "\n",
    "    \n",
    "def print_hello2():\n",
    "    print(\"안녕하세요~\")\n",
    "\n",
    "# 함수 콜(매개변수로 함수를 전달)\n",
    "#call_10_times(print_hello)\n",
    "call_10_times(print_hello2)"
   ]
  }
 ],
 "metadata": {
  "interpreter": {
   "hash": "054c0b5073ae8ed56926c5c67113945079b283bacf1a269ae7086b3d9eebd60c"
  },
  "kernelspec": {
   "display_name": "Python 3.10.1 64-bit",
   "language": "python",
   "name": "python3"
  },
  "language_info": {
   "codemirror_mode": {
    "name": "ipython",
    "version": 3
   },
   "file_extension": ".py",
   "mimetype": "text/x-python",
   "name": "python",
   "nbconvert_exporter": "python",
   "pygments_lexer": "ipython3",
   "version": "3.10.1"
  },
  "orig_nbformat": 4
 },
 "nbformat": 4,
 "nbformat_minor": 2
}
