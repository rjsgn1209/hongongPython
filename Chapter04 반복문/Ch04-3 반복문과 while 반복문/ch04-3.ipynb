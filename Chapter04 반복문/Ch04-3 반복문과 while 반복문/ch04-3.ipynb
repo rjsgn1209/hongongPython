{
 "cells": [
  {
   "cell_type": "markdown",
   "metadata": {},
   "source": [
    "### 04-3 range와 while 반복문\n",
    "---\n",
    "#### 시작하기 전에\n",
    "***range***는 반복문과 함께 많이 사용되는 자료형. 특정한 횟수 만큼 반복해서 실행하고자 할 때 사용"
   ]
  },
  {
   "cell_type": "markdown",
   "metadata": {},
   "source": [
    "> 범위"
   ]
  },
  {
   "cell_type": "code",
   "execution_count": 4,
   "metadata": {},
   "outputs": [
    {
     "name": "stdout",
     "output_type": "stream",
     "text": [
      "r: range(0, 10) \n",
      "타입: <class 'range'>\n",
      "0\n",
      "2\n",
      "4\n"
     ]
    }
   ],
   "source": [
    "# 범위(range) 자료형 선언(생성)\n",
    "r = range(10)\n",
    "print(\"r:\", r, \"\\n타입:\", type(r))\n",
    "\n",
    "r1 = range(5)       # 0 ~ 5 : 0 1 2 3 4 \n",
    "r2 = range(0, 5)    # 0 ~ 5 : 0 1 2 3 4\n",
    "r3 = range(0, 5, 1) # 0 ~ 5 : 0 1 2 3 4\n",
    "\n",
    "r4 = range(0, 5, 2)\n",
    "for i in r4:\n",
    "    print(i)\n",
    "\n",
    "\n",
    "    \n",
    "#range(stop) -> range object range(start, stop[, step]) -> range object\n",
    "#Return an object that produces a sequence of integers from start (inclusive) to stop (exclusive) by stop."
   ]
  },
  {
   "cell_type": "markdown",
   "metadata": {},
   "source": [
    "> 리스트(list) 와 함께 사용하기"
   ]
  },
  {
   "cell_type": "code",
   "execution_count": 10,
   "metadata": {},
   "outputs": [
    {
     "name": "stdout",
     "output_type": "stream",
     "text": [
      "[3, 6, 9, 12, 15, 18, 21, 24, 27, 30, 33, 36, 39, 42, 45, 48, 51, 54, 57, 60, 63, 66, 69, 72, 75, 78, 81, 84, 87, 90, 93, 96, 99]\n"
     ]
    }
   ],
   "source": [
    "list(\"Python\")\n",
    "list(range(1, 10, 1))\n",
    "\n",
    "range(1, 10)\n",
    "range(1, 10*1)\n",
    "\n",
    "# 100 보다 작은 3의 배수 리스트 생성하세요\n",
    "\n",
    "number_list = list(range(3, 100, 3)) \n",
    "print(number_list)\n",
    "\n",
    "    "
   ]
  },
  {
   "cell_type": "code",
   "execution_count": 16,
   "metadata": {},
   "outputs": [
    {
     "name": "stdout",
     "output_type": "stream",
     "text": [
      "10 9 8 7 6 5 4 3 2 1 \n",
      "fire!!! "
     ]
    }
   ],
   "source": [
    "# 카운트 다운\n",
    "import time\n",
    "for counter in range(10, 0, -1):\n",
    "    print(counter, end=\" \")\n",
    "    time.sleep(1)\n",
    "print()\n",
    "print(\"fire!!!\") "
   ]
  },
  {
   "cell_type": "code",
   "execution_count": 17,
   "metadata": {},
   "outputs": [
    {
     "name": "stdout",
     "output_type": "stream",
     "text": [
      "1 교시 국어\n",
      "2 교시 영어\n",
      "3 교시 수학\n",
      "4 교시 컴퓨터\n",
      "5 교시 물리\n"
     ]
    }
   ],
   "source": [
    "subjects = [\"국어\", \"영어\", \"수학\", \"컴퓨터\", \"물리\"]\n",
    "for i in range(len(subjects)):\n",
    "    print(i + 1, \"교시\", subjects[i])"
   ]
  },
  {
   "cell_type": "markdown",
   "metadata": {},
   "source": [
    "> while 반복문"
   ]
  },
  {
   "cell_type": "code",
   "execution_count": 20,
   "metadata": {},
   "outputs": [
    {
     "name": "stdout",
     "output_type": "stream",
     "text": [
      "0 1 2 3 4 5 6 7 8 9 10 11 12 13 14 for 반복문 종료\n",
      "0 1 2 3 4 5 6 7 8 9 10 11 12 13 14 while 반복문 종료\n"
     ]
    }
   ],
   "source": [
    "# 1. for looping : 특정 횟수 만큼 반복하는 경우(반복 횟수가 정해져 있을 때)\n",
    "# 2. while looping : 특정 조건에 대하여 반복하는 경우(조건식이 만족할 때까지 반복)\n",
    "# while bool표현식: \n",
    "\n",
    "# 횟수 반복\n",
    "for i in range(15):\n",
    "    print(i, end=\" \")\n",
    "    time.sleep(0.5)\n",
    "print(\"for 반복문 종료\")\n",
    "\n",
    "# 조건 반복\n",
    "n = 0\n",
    "while n < 15: \n",
    "    print(n, end=\" \")\n",
    "    n += 1\n",
    "    time.sleep(0.5)\n",
    "print(\"while 반복문 종료\")"
   ]
  },
  {
   "cell_type": "code",
   "execution_count": 51,
   "metadata": {},
   "outputs": [
    {
     "name": "stdout",
     "output_type": "stream",
     "text": [
      "Python\n"
     ]
    }
   ],
   "source": [
    "import string\n",
    "string.punctuation\n",
    "\n",
    "a = \"\"\"!\"P#$%&'y()*+,t-./:h;<=o>?@[\\]n^_`{|}~\"\"\"\n",
    "str_list = []\n",
    "for i in range(6):\n",
    "    a = a.strip(string.punctuation)\n",
    "    str_list.append(a[0]) \n",
    "    a = a.strip(a[0])\n",
    "print(\"\".join(str_list))"
   ]
  },
  {
   "cell_type": "code",
   "execution_count": 67,
   "metadata": {},
   "outputs": [
    {
     "name": "stdout",
     "output_type": "stream",
     "text": [
      "Python\n"
     ]
    }
   ],
   "source": [
    "import string\n",
    "li = \"\"\"!\"P#$%&'y()*+,t-./:h;<=o>?@[\\]n^_`{|}~\"\"\"\n",
    "ans = []\n",
    "\n",
    "l = len(li)\n",
    "for i in range(l):\n",
    "    if li[i] not in string.punctuation:\n",
    "        ans.append(li[i])\n",
    "\n",
    "print(''.join(ans))"
   ]
  },
  {
   "cell_type": "markdown",
   "metadata": {},
   "source": [
    "> While 반복문 : 시간을 기반으로 반복하기"
   ]
  },
  {
   "cell_type": "code",
   "execution_count": 66,
   "metadata": {},
   "outputs": [
    {
     "name": "stdout",
     "output_type": "stream",
     "text": [
      "1.000356912612915초 동안 8676676회 반복 했습니다.\n"
     ]
    }
   ],
   "source": [
    "# 세계 표준시(UTC) : 1970.01.01.00:00:00 기준 현재까지의 누적 초\n",
    "\n",
    "import time\n",
    "#print(\"UTC: \", time.time())\n",
    "\n",
    "count = 0\n",
    "start_time = time.time()\n",
    "target_time = start_time + 1\n",
    "\n",
    "while time.time() < target_time:\n",
    "    count += 1\n",
    "\n",
    "end_time = time.time()\n",
    "print(\"{}초 동안 {}회 반복 했습니다.\".format(end_time - start_time, count))"
   ]
  },
  {
   "cell_type": "markdown",
   "metadata": {},
   "source": [
    "> 반복문 : break / countinue"
   ]
  },
  {
   "cell_type": "code",
   "execution_count": 95,
   "metadata": {},
   "outputs": [
    {
     "name": "stdout",
     "output_type": "stream",
     "text": [
      "● ● \n",
      "● ● \n",
      "● ● ● ● \n",
      "● ● \n",
      "● ● ● ● \n",
      "● ● ● ● ● \n",
      "● ● ● \n",
      "주사위 던지기를 종료합니다. Good Bye ~\n"
     ]
    }
   ],
   "source": [
    "# 주사위 던지기\n",
    "import random\n",
    "\n",
    "\n",
    "while True:\n",
    "    user_key = input(\"아무 키나 입력하세요(종료키는:Q/q)> \")\n",
    "    if user_key in [\"Q\", \"q\"]:\n",
    "        break\n",
    "    else:\n",
    "        dice = int(random.random()*6 + 1)\n",
    "        print(\"● \" * dice)\n",
    "print(\"주사위 던지기를 종료합니다. Good Bye ~\")"
   ]
  },
  {
   "cell_type": "code",
   "execution_count": 112,
   "metadata": {},
   "outputs": [
    {
     "name": "stdout",
     "output_type": "stream",
     "text": [
      "20\n",
      "21\n",
      "22\n",
      "👏\n",
      "24\n",
      "25\n",
      "👏\n",
      "27\n",
      "28\n",
      "👏\n",
      "👏\n",
      "👏\n",
      "👏\n",
      "👏👏\n",
      "👏\n",
      "👏\n",
      "👏👏\n",
      "👏\n",
      "👏\n",
      "👏👏\n",
      "40\n"
     ]
    }
   ],
   "source": [
    "# continue : 실행을 건너뛰고 반복조건으로 되돌리기\n",
    "\n",
    "# 369 게임\n",
    "# 3, 6, 9 : \"👏\"\n",
    "# 36: \"👏👏\"\n",
    "\n",
    "user = input(\"369게임 숫자 범위를 입력하세요(예:1-10) > \")\n",
    "li = user.split(\"-\")\n",
    "start = int(li[0])\n",
    "stop = int(li[1])\n",
    "\n",
    "#start,2,3,4,5,6,7...stop\n",
    "for num in range(start, stop + 1):\n",
    "    count = 0\n",
    "    for ch in str(num):\n",
    "        if ch in \"369\":\n",
    "            count += 1\n",
    "    if count == 0:\n",
    "        print(num)\n",
    "    else:\n",
    "        print(count * \"👏\")\n"
   ]
  },
  {
   "cell_type": "code",
   "execution_count": 118,
   "metadata": {},
   "outputs": [
    {
     "name": "stdout",
     "output_type": "stream",
     "text": [
      "0\n",
      "3\n",
      "6\n",
      "9\n",
      "12\n",
      "15\n",
      "18\n",
      "21\n",
      "24\n",
      "27\n",
      "30\n",
      "33\n",
      "36\n",
      "39\n",
      "42\n",
      "45\n",
      "48\n",
      "51\n",
      "54\n",
      "57\n",
      "60\n",
      "63\n",
      "66\n",
      "69\n",
      "72\n",
      "75\n",
      "78\n",
      "81\n",
      "84\n",
      "87\n",
      "90\n",
      "93\n",
      "96\n",
      "99\n"
     ]
    }
   ],
   "source": [
    "# 1~100 까지의 정수 중 3의 배수만 출력하는 프로그램 작성\n",
    "\n",
    "for num in range(101):\n",
    "    if num % 3 == 0: print(num)\n",
    "    else: continue"
   ]
  }
 ],
 "metadata": {
  "interpreter": {
   "hash": "054c0b5073ae8ed56926c5c67113945079b283bacf1a269ae7086b3d9eebd60c"
  },
  "kernelspec": {
   "display_name": "Python 3.10.1 64-bit",
   "language": "python",
   "name": "python3"
  },
  "language_info": {
   "codemirror_mode": {
    "name": "ipython",
    "version": 3
   },
   "file_extension": ".py",
   "mimetype": "text/x-python",
   "name": "python",
   "nbconvert_exporter": "python",
   "pygments_lexer": "ipython3",
   "version": "3.10.1"
  },
  "orig_nbformat": 4
 },
 "nbformat": 4,
 "nbformat_minor": 2
}
