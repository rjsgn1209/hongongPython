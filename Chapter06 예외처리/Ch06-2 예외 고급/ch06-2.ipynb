{
 "cells": [
  {
   "cell_type": "markdown",
   "metadata": {},
   "source": [
    "### 06-2 예외 고급\n",
    "---\n",
    "#### 예외(exception object) 발생시키기"
   ]
  },
  {
   "cell_type": "markdown",
   "metadata": {},
   "source": [
    "> raise 구문"
   ]
  },
  {
   "cell_type": "code",
   "execution_count": 6,
   "metadata": {},
   "outputs": [
    {
     "name": "stdout",
     "output_type": "stream",
     "text": [
      "========================================================\n",
      "프로그램 시작\n",
      "업무상 자연수만 입력해주세요!!!\n",
      "프로그램 종료\n"
     ]
    }
   ],
   "source": [
    "# 타 언어 예외처리 : throw(예외를 던지고) ---> try ~ catch ~ finally 예외를 받아 쳐리...\n",
    "\n",
    "class Biz_inValidError(Exception):\n",
    "    def __init__(self, message):\n",
    "        Exception.__init__(self)\n",
    "        self.message = message\n",
    "    \n",
    "    def __str__(self):\n",
    "        return self.message\n",
    "\n",
    "\n",
    "# 업무상 데이터가 음수가 입력되면 안되는 상황이면...\n",
    "#                   0 이\n",
    "\n",
    "def biz_method(number):\n",
    "    \"\"\"자연수가 아니면 Biz_inValidError에러 발생\"\"\"\n",
    "    if number > 0:\n",
    "        print(\"유효한 입력입니다.\")\n",
    "    else:\n",
    "        # 자연수가 아닌 경우를 처리\n",
    "        raise Biz_inValidError(\"업무상 자연수만 입력해주세요!!!\")\n",
    "\n",
    "print(\"========================================================\")\n",
    "print(\"프로그램 시작\")\n",
    "\n",
    "data_in = input(\"정수입력: \")\n",
    "number = int(data_in)\n",
    "\n",
    "try:\n",
    "    biz_method(number)\n",
    "except Biz_inValidError as ex_biz:\n",
    "    print(str(ex_biz))\n",
    "\n",
    "    \n",
    "print(\"프로그램 종료\")"
   ]
  },
  {
   "cell_type": "code",
   "execution_count": null,
   "metadata": {},
   "outputs": [],
   "source": []
  }
 ],
 "metadata": {
  "interpreter": {
   "hash": "054c0b5073ae8ed56926c5c67113945079b283bacf1a269ae7086b3d9eebd60c"
  },
  "kernelspec": {
   "display_name": "Python 3.10.1 64-bit",
   "language": "python",
   "name": "python3"
  },
  "language_info": {
   "codemirror_mode": {
    "name": "ipython",
    "version": 3
   },
   "file_extension": ".py",
   "mimetype": "text/x-python",
   "name": "python",
   "nbconvert_exporter": "python",
   "pygments_lexer": "ipython3",
   "version": "3.10.1"
  },
  "orig_nbformat": 4
 },
 "nbformat": 4,
 "nbformat_minor": 2
}
