{
 "cells": [
  {
   "cell_type": "markdown",
   "metadata": {},
   "source": [
    "### 07-1 표준 모듈\n",
    "---\n",
    "***모듈(module)*** 이란 여러 변수와 함수를 가지고 있는 집합체"
   ]
  },
  {
   "cell_type": "markdown",
   "metadata": {},
   "source": [
    "> 묘듈, 패키지, 라이브러리"
   ]
  },
  {
   "cell_type": "code",
   "execution_count": null,
   "metadata": {},
   "outputs": [],
   "source": [
    "# [모듈]\n",
    "# 특정 기능을 .py 파일 단위로 작성한 것\n",
    "\n",
    "# [패키지]\n",
    "# 특정 기능과 관련된 여러 모듈을 묶은 것(namespace 제공)\n",
    "\n",
    "# [파이썬 표준 라이브러리]\n",
    "# 파이썬에 기본 설치된 모듈과 패키지, 내장함수"
   ]
  },
  {
   "cell_type": "markdown",
   "metadata": {},
   "source": [
    "> import 모듈 가져오기"
   ]
  },
  {
   "cell_type": "code",
   "execution_count": 2,
   "metadata": {},
   "outputs": [
    {
     "data": {
      "text/plain": [
       "1.8973665961010275"
      ]
     },
     "execution_count": 2,
     "metadata": {},
     "output_type": "execute_result"
    }
   ],
   "source": [
    "# import 모듈명\n",
    "# import 모듈명1, 모듈2 ...\n",
    "\n",
    "# 모듈.변수\n",
    "# 모듈.함수()\n",
    "# 모듈.클래스()\n",
    "\n",
    "import math\n",
    "math.pi\n",
    "math.sqrt(3.6)"
   ]
  },
  {
   "cell_type": "markdown",
   "metadata": {},
   "source": [
    "> import as 모듈 이름 지정"
   ]
  },
  {
   "cell_type": "code",
   "execution_count": 3,
   "metadata": {},
   "outputs": [
    {
     "data": {
      "text/plain": [
       "2.0"
      ]
     },
     "execution_count": 3,
     "metadata": {},
     "output_type": "execute_result"
    }
   ],
   "source": [
    "# import 모듈 as 이름\n",
    "import math as m\n",
    "m.sqrt(4.0)"
   ]
  },
  {
   "cell_type": "markdown",
   "metadata": {},
   "source": [
    "> from import 모듈의 일부만 가져오기"
   ]
  },
  {
   "cell_type": "code",
   "execution_count": 5,
   "metadata": {},
   "outputs": [
    {
     "data": {
      "text/plain": [
       "1.7320508075688772"
      ]
     },
     "execution_count": 5,
     "metadata": {},
     "output_type": "execute_result"
    }
   ],
   "source": [
    "# from 모듈 import 변수/함수\n",
    "from math import pi\n",
    "from math import sqrt as sq\n",
    "\n",
    "pi\n",
    "sq(3.0)"
   ]
  },
  {
   "cell_type": "code",
   "execution_count": 9,
   "metadata": {},
   "outputs": [
    {
     "data": {
      "text/plain": [
       "1.7724538509055159"
      ]
     },
     "execution_count": 9,
     "metadata": {},
     "output_type": "execute_result"
    }
   ],
   "source": [
    "from math import pi as PI, sqrt as s\n",
    "PI\n",
    "s(PI)"
   ]
  },
  {
   "cell_type": "markdown",
   "metadata": {},
   "source": [
    "> import 패키지 가져오기"
   ]
  },
  {
   "cell_type": "code",
   "execution_count": 10,
   "metadata": {},
   "outputs": [
    {
     "data": {
      "text/plain": [
       "200"
      ]
     },
     "execution_count": 10,
     "metadata": {},
     "output_type": "execute_result"
    }
   ],
   "source": [
    "# 패키지 : 특정 기능과 관련된 여러 모듈 묶은 것, 패키지 안에 들어 있는 모듈 가져다 쓰기\n",
    "# import 패키지.모듈\n",
    "\n",
    "import urllib.request\n",
    "\n",
    "res = urllib.request.urlopen(\"https://google.com\")\n",
    "res.status # HTTP 상태 코드 : 200(성공), 400(요청오류)"
   ]
  },
  {
   "cell_type": "code",
   "execution_count": 11,
   "metadata": {},
   "outputs": [
    {
     "data": {
      "text/plain": [
       "200"
      ]
     },
     "execution_count": 11,
     "metadata": {},
     "output_type": "execute_result"
    }
   ],
   "source": [
    "# from 패키지.모듈 import 클래스, 함수, 변수\n",
    "from urllib.request import Request, urlopen\n",
    "\n",
    "req = Request(\"https://google.com\")\n",
    "res = urlopen(req)\n",
    "res.status"
   ]
  },
  {
   "cell_type": "markdown",
   "metadata": {},
   "source": [
    "> random, sys, os, datatime, time, urllib 모듈"
   ]
  }
 ],
 "metadata": {
  "interpreter": {
   "hash": "054c0b5073ae8ed56926c5c67113945079b283bacf1a269ae7086b3d9eebd60c"
  },
  "kernelspec": {
   "display_name": "Python 3.10.1 64-bit",
   "language": "python",
   "name": "python3"
  },
  "language_info": {
   "codemirror_mode": {
    "name": "ipython",
    "version": 3
   },
   "file_extension": ".py",
   "mimetype": "text/x-python",
   "name": "python",
   "nbconvert_exporter": "python",
   "pygments_lexer": "ipython3",
   "version": "3.10.1"
  },
  "orig_nbformat": 4
 },
 "nbformat": 4,
 "nbformat_minor": 2
}
