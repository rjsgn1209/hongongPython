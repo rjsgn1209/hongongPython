{
 "cells": [
  {
   "cell_type": "markdown",
   "metadata": {},
   "source": [
    "### 02-1 자료형과 문자열\n",
    "---"
   ]
  },
  {
   "cell_type": "markdown",
   "metadata": {},
   "source": [
    "#### 시작하기전에   \n",
    "프로그램은 기본적으로 '자료를 처리'하는 역할을 한다.   \n",
    "* 카메라로 사진을 찍으면 사진이 **자료**이고, 이를 카메라에 저장하는 것이 **처리**이다.\n",
    "* 카톡으로 메시지를 보냈다면 메시지가 **자료**이고, 이를 친구에게 전송하는 것이 **처리**이다.\n",
    "* 게임에서 경험치를 얻었다면 경험치가 **자료**이고, 경험치를 증가시키는 것이 **처리**이다.\n",
    "\n",
    "데이터를 처리한다는 것은 결국...CRUD   \n",
    "\" Cretente(생성/쓰기), Read(읽기), Update(갱신), Delete(삭제) \" 한다는 것이다!!!"
   ]
  },
  {
   "cell_type": "markdown",
   "metadata": {},
   "source": [
    "> 자료형(data type) \n",
    "* 문자열(string): 메일 제목, 메시지 내용 등 -> \"안녕하세요\", \"Hello World\"\n",
    "* 숫자(number): 물건의 가격, 학생의 성적 등 -> 52, 273, 103.32\n",
    "* 불(boolean): 로그인 상태 -> True, False   \n",
    "자료형은 자료의 형태이고, 자료형에 따라 컴퓨터가 해석하는 방법이 달라진다. "
   ]
  },
  {
   "cell_type": "markdown",
   "metadata": {},
   "source": [
    "> 자료형 확인하기"
   ]
  },
  {
   "cell_type": "code",
   "execution_count": null,
   "metadata": {},
   "outputs": [],
   "source": [
    "# 파이썬 기본 자료형\n",
    "print(type(\"나는 문자열\"))\n",
    "print(type(173))\n",
    "print(type(3.14))\n",
    "print(type(True))\n",
    "print()\n",
    "\n",
    "# 컬렉션 자료형\n",
    "[\"철수\", 120], (), {\"name\": \"철수\", \"키\": 120}\n",
    "print(type([1, \"2\", True]))\n",
    "print(type((1,2,3)))\n",
    "print(type({1: 'a', 2: 'b', 3: 'c'}))"
   ]
  },
  {
   "cell_type": "code",
   "execution_count": null,
   "metadata": {},
   "outputs": [],
   "source": [
    "# dir() : 어떤 객체가 어떤 메소드를 가지고 있는지 알고 싶을 때\n",
    "# dir(__builtins__) <-- 기본적으로 내장된 메소드들 ex)print\n",
    "dir(12)\n",
    "dir(\"문자열\")"
   ]
  },
  {
   "cell_type": "code",
   "execution_count": null,
   "metadata": {},
   "outputs": [],
   "source": [
    "# id() : 객체를 식별하기 위해서 부여하는 일련번호\n",
    "a = 10\n",
    "# 10 이라는 값이 a에 담기는게 아니라 10이라는 객체(class의 인스턴스)가 생성되고\n",
    "# 참조 변수 a 라는 이름으로 10 객체를 가리킨다.\n",
    "\n",
    "id(a)\n",
    "\n",
    "n = 4000\n",
    "print(\"n:\", id(n))\n",
    "\n",
    "a = 4000\n",
    "print(\"a:\", id(a))\n",
    "b = 4000\n",
    "print(\"b:\", id(b))\n",
    "\n",
    "print(a == b)\n",
    "print(a is b)"
   ]
  },
  {
   "cell_type": "code",
   "execution_count": null,
   "metadata": {},
   "outputs": [],
   "source": [
    "# isinstance() : 주어진 인스턴스가 특정 클래스(데이터타입)인지 검사\n",
    "print(isinstance(\"이것은 문자여르\", str))\n",
    "print(isinstance(2002, int))"
   ]
  },
  {
   "cell_type": "code",
   "execution_count": null,
   "metadata": {},
   "outputs": [],
   "source": [
    "# help() : 함수(function) 정보를 보고 싶을 때\n",
    "# help(print)\n",
    "print(print.__doc__)"
   ]
  },
  {
   "cell_type": "markdown",
   "metadata": {},
   "source": [
    "> 문자열 만들기 : \"\", '', \"\"\" \"\"\", ''' '''"
   ]
  },
  {
   "cell_type": "code",
   "execution_count": null,
   "metadata": {},
   "outputs": [],
   "source": [
    "# 문자열('str') : 문자(char)의 배열\n",
    "\n",
    "# 문자셋(character set)\n",
    "print(ord('A')) #인코딩\n",
    "print(chr(0b1100001)) #디코딩\n",
    "\n",
    "for i in 'abcdef':\n",
    "\n",
    "    print(i)"
   ]
  },
  {
   "cell_type": "code",
   "execution_count": 49,
   "metadata": {},
   "outputs": [
    {
     "name": "stdout",
     "output_type": "stream",
     "text": [
      "why don't you?\n",
      "why don't you?\n",
      "\"Yes\" they said\n",
      "\"Yes\" they said\n"
     ]
    }
   ],
   "source": [
    "# why don't you?\n",
    "print(\"why don't you?\")\n",
    "print('why don\\'t you?')\n",
    "# \"Yes\" They said\n",
    "print('\"Yes\" they said')\n",
    "print(\"\\\"Yes\\\" they said\")"
   ]
  },
  {
   "cell_type": "markdown",
   "metadata": {},
   "source": [
    "> 이스케이프(Escape Character):\\ + 문자"
   ]
  },
  {
   "cell_type": "code",
   "execution_count": 54,
   "metadata": {},
   "outputs": [
    {
     "name": "stdout",
     "output_type": "stream",
     "text": [
      "First line. \n",
      "Second line.\n",
      "D:\\MyFolder\n",
      "ame\n",
      "D:\\MyFolder\\name\n",
      "D:\\MyFolder\\name\n",
      "이름\t나이\t주소\n"
     ]
    }
   ],
   "source": [
    "# 특수 문자를 표현하거나 특수한 기능을 하는 문자\n",
    "print('First line. \\nSecond line.')\n",
    "# 경로명\n",
    "print(\"D:\\MyFolder\\name\")\n",
    "print(\"D:\\MyFolder\\\\name\")\n",
    "print(r\"D:\\MyFolder\\name\")\n",
    "print(\"이름\\t나이\\t주소\")"
   ]
  },
  {
   "cell_type": "markdown",
   "metadata": {},
   "source": [
    "> 여러 줄인 문자열(Multi-Line)"
   ]
  },
  {
   "cell_type": "code",
   "execution_count": 62,
   "metadata": {},
   "outputs": [
    {
     "name": "stdout",
     "output_type": "stream",
     "text": [
      "1. Life is too short\n",
      "2. You need python\n",
      "\n",
      "1. Life is too short\n",
      "2. You need python\n",
      "\n",
      "\n",
      "** MENU **\n",
      "1. coffee\n",
      "2. milk\n",
      "3. cake\n",
      "\n",
      "\n",
      "1. coffee milk\n",
      "2. cake\n",
      "\n"
     ]
    }
   ],
   "source": [
    "s1 = \"1. Life is too short\\n2. You need python\"\n",
    "print(s1)\n",
    "# 줄바꿈 문자열\n",
    "s2 = \"\"\"\n",
    "1. Life is too short\n",
    "2. You need python\n",
    "\"\"\"\n",
    "print(s2)\n",
    "print(\"\"\"\n",
    "** MENU **\n",
    "1. coffee\n",
    "2. milk\n",
    "3. cake\n",
    "\"\"\")\n",
    "# 줄바꿈 없는 문자열\n",
    "menu = \"\"\"\n",
    "1. coffee \\\n",
    "milk\n",
    "2. cake\n",
    "\"\"\"\n",
    "print(menu)"
   ]
  },
  {
   "cell_type": "markdown",
   "metadata": {},
   "source": [
    "> 문자열 연산자 : + , *"
   ]
  },
  {
   "cell_type": "code",
   "execution_count": null,
   "metadata": {},
   "outputs": [],
   "source": [
    "# \"문자열\" + \"문자열\"\n",
    "# 연산시 항상 자료형 일치\n",
    "print(\"안녕안녕 나는 지수야\" + \" 헬륨가스 먹었더니 이렇게 됬지\")\n",
    "lan = \"Python\"\n",
    "version = \"3.10.1\"\n",
    "print(lan + version)\n",
    "\n",
    "# \"문자열\" * 숫자\n",
    "print(\"안녕하세여\\n\" * 3)\n",
    "print(\"=\" * 50)\n",
    "print(\"Progeam\")\n",
    "print(\"=\" * 50)"
   ]
  },
  {
   "cell_type": "markdown",
   "metadata": {},
   "source": [
    "> 문자 선택 연잔사(인덱싱) : [index]"
   ]
  },
  {
   "cell_type": "code",
   "execution_count": null,
   "metadata": {},
   "outputs": [],
   "source": [
    "# [index] : 문자열과 같은 자료형에서 자료가 메모리에 저장된 순서대로 매겨진 값의 위치 번호\n",
    "array = 'p' 'y' 't' 'h' 'o' 'n'\n",
    "print(\"012345\")\n",
    "print(array)\n",
    "print(array[0])\n",
    "print(array[1])\n",
    "print(array[-1]) # 마이너스 가능\n",
    "print(array[-3])"
   ]
  },
  {
   "cell_type": "code",
   "execution_count": null,
   "metadata": {},
   "outputs": [],
   "source": [
    "array = \"Life is too short, You need Python\"\n",
    "index = \"0123456789012345678901234567890123\"\n",
    "\n",
    "print(type(array))\n",
    "print(len(array))\n",
    "print(index)\n",
    "print(array)"
   ]
  },
  {
   "cell_type": "code",
   "execution_count": null,
   "metadata": {},
   "outputs": [],
   "source": [
    "print(array[28])\n",
    "print(array[-6])\n",
    "print(array[len(array) - 1])"
   ]
  },
  {
   "cell_type": "markdown",
   "metadata": {},
   "source": [
    "> 문자열 범위 선택 연산자(슬라이스) : [시작 : 끝]"
   ]
  },
  {
   "cell_type": "code",
   "execution_count": null,
   "metadata": {},
   "outputs": [],
   "source": [
    "print(index)\n",
    "print(array)\n",
    "\n",
    "# 특정 단어(\"Life\")를 추출하려면?\n",
    "word = array[0:3 + 1] # 범위표시 : 시작<= <끝 + 1\n",
    "print(word)\n",
    "\n",
    "print(array[12:17])\n",
    "print(array[:3+1])\n",
    "print(array[19:])\n",
    "print(array[:]) # 처음부터 끝까지"
   ]
  },
  {
   "cell_type": "code",
   "execution_count": 131,
   "metadata": {},
   "outputs": [
    {
     "name": "stdout",
     "output_type": "stream",
     "text": [
      "생년원일: 971113 나이정보: 25 성별: 남자\n"
     ]
    }
   ],
   "source": [
    "import datetime\n",
    "\n",
    "data = \"971113-1013721\"\n",
    "birthDay = data[:6]\n",
    "year = data[:2]\n",
    "gender  = \"남자\" if int(data[7:8]) % 2 == 1 else \"여자\"\n",
    "\n",
    "current = datetime.datetime.now()\n",
    "currnetYear = current.year\n",
    "age = currnetYear - (1900 + int(year))\n",
    "\n",
    "print(\"생년원일:\", birthDay, \"나이정보:\", age, \"성별:\",gender)"
   ]
  },
  {
   "cell_type": "markdown",
   "metadata": {},
   "source": [
    "> 문자열 상수(string constants): immutable 자료형\n"
   ]
  },
  {
   "cell_type": "code",
   "execution_count": 133,
   "metadata": {},
   "outputs": [
    {
     "name": "stdout",
     "output_type": "stream",
     "text": [
      "Python\n"
     ]
    }
   ],
   "source": [
    "word = \"Jython\"\n",
    "# word[0] = \"P\"\n",
    "\n",
    "word = \"P\" + word[1:]\n",
    "\n",
    "print(word)\n"
   ]
  }
 ],
 "metadata": {
  "interpreter": {
   "hash": "054c0b5073ae8ed56926c5c67113945079b283bacf1a269ae7086b3d9eebd60c"
  },
  "kernelspec": {
   "display_name": "Python 3.10.1 64-bit",
   "language": "python",
   "name": "python3"
  },
  "language_info": {
   "codemirror_mode": {
    "name": "ipython",
    "version": 3
   },
   "file_extension": ".py",
   "mimetype": "text/x-python",
   "name": "python",
   "nbconvert_exporter": "python",
   "pygments_lexer": "ipython3",
   "version": "3.10.1"
  },
  "orig_nbformat": 4
 },
 "nbformat": 4,
 "nbformat_minor": 2
}
