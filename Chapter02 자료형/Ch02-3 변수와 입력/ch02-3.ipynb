{
 "cells": [
  {
   "cell_type": "markdown",
   "metadata": {},
   "source": [
    "### 02-3 변수와 입력\n",
    "---\n",
    "#### 시작하기 전에\n",
    "***변수***란 값을 저장하여 사용하기 위한 식별자이다."
   ]
  },
  {
   "cell_type": "markdown",
   "metadata": {},
   "source": [
    "> 변수(Variable) 만들기(사용)"
   ]
  },
  {
   "cell_type": "code",
   "execution_count": null,
   "metadata": {},
   "outputs": [],
   "source": [
    "# 계좌에 100만원 가지고 용산전자상가에서 노트북과 이어폰을 사고 정산하기\n",
    "account = 1_000_000\n",
    "notebook = 500_000\n",
    "earphone = 200_000\n",
    "\n",
    "account - (notebook + earphone)\n",
    "\n",
    "print(\"계좌전고: \", account - (notebook + earphone), \"원\")"
   ]
  },
  {
   "cell_type": "code",
   "execution_count": null,
   "metadata": {},
   "outputs": [],
   "source": [
    "# 원의 둘레 면적 구하는 프로그램\n",
    "PI = 3.14 # 상수명 선언시 대문자 사용"
   ]
  },
  {
   "cell_type": "markdown",
   "metadata": {},
   "source": [
    "> 복합 대입연산자 : += -= *= /= %= **="
   ]
  },
  {
   "cell_type": "code",
   "execution_count": null,
   "metadata": {},
   "outputs": [],
   "source": [
    "a = 0\n",
    "print(a + 1)\n",
    "a += 10 # a = a + 10\n",
    "print(a)\n",
    "\n",
    "a += 10\n",
    "print(a)\n",
    "\n",
    "a /= 5\n",
    "print(a)\n",
    "\n",
    "# 문자열 연사(+, *)\n",
    "string = \"안녕하세요!\"\n",
    "string += \" 여러분\" # string = \"안녕하세요!\" + \" 여러분\"\n",
    "\n",
    "print(string)"
   ]
  },
  {
   "cell_type": "markdown",
   "metadata": {},
   "source": [
    "> 사용자 입력(input)"
   ]
  },
  {
   "cell_type": "code",
   "execution_count": null,
   "metadata": {},
   "outputs": [],
   "source": [
    "keyboard = input(\"숫자를 입력해 주세요: \")\n",
    "print(type(keyboard))\n",
    "\n",
    "print(int(keyboard) + 10)"
   ]
  },
  {
   "cell_type": "markdown",
   "metadata": {},
   "source": [
    "> 타입 캐스팅(형변환)"
   ]
  },
  {
   "cell_type": "code",
   "execution_count": null,
   "metadata": {},
   "outputs": [],
   "source": [
    "keyboard = input(\"숫자를 입력해 주세요: \")\n",
    "print(\"입력값\", keyboard)\n",
    "print(type(keyboard))\n",
    "\n",
    "# 'str to 'int': 문자열을 숫자로\n",
    "keyboard = int(keyboard)\n",
    "print(\"int(입력값):\", keyboard)\n",
    "print(type(keyboard))\n",
    "\n",
    "keyboard += 10\n",
    "print(\"입력값 + 10\", keyboard)"
   ]
  },
  {
   "cell_type": "code",
   "execution_count": null,
   "metadata": {},
   "outputs": [],
   "source": [
    "radius = float(input(\"원의 반지름(실수)을 입력하세요: \"))\n",
    "print(type(radius))"
   ]
  },
  {
   "cell_type": "markdown",
   "metadata": {},
   "source": [
    "> 사용자 입력값 계산하기"
   ]
  },
  {
   "cell_type": "code",
   "execution_count": null,
   "metadata": {},
   "outputs": [],
   "source": [
    "# 숫자를 두 번 입력받아 계산하고 결과를 출력하시오\n",
    "\"\"\"\n",
    "try:\n",
    "    a = int(input(\"첫번째 값: \"))\n",
    "    b = int(input(\"두번째 값: \"))\n",
    "\n",
    "    print(\"a+b:\", a+b)\n",
    "    print(\"a-b:\", a-b)\n",
    "    print(\"a*b:\", a*b)\n",
    "    print(\"a/b:\", a/b)\n",
    "except:\n",
    "print(\"종료\")\n",
    "\"\"\"\n",
    "\n",
    "#변수 선언 및 초기화\n",
    "x = None; y = None\n",
    "\n",
    "data1 = input(\"첫 번째 숫자 입력: \")\n",
    "data2 = input(\"두 번째 숫자 입력: \")\n",
    "x = float(data1)\n",
    "y = float(data2)"
   ]
  },
  {
   "cell_type": "markdown",
   "metadata": {},
   "source": [
    "> ValueError 에외"
   ]
  },
  {
   "cell_type": "code",
   "execution_count": null,
   "metadata": {},
   "outputs": [],
   "source": [
    "# print(dir(__builtins__))\n",
    "\n",
    "# 첫째, 숫자가 아닌 자료를 숫자로 변환 하려고 할 때\n",
    "# data = int(input(\"정수를 입력하세요: \")) # \"Hello\" 문자열 입력\n",
    "#print(data)\n",
    "\n",
    "i = int(\"123456789\")\n",
    "print(i)\n",
    "\n",
    "int(\"안녕하세요\")"
   ]
  },
  {
   "cell_type": "code",
   "execution_count": null,
   "metadata": {},
   "outputs": [],
   "source": [
    "# 둘째, 소수점이 있는 숫자 형식의 문자열을 int() 형변환하려고 할 때\n",
    "\n",
    "x = 42.195\n",
    "print(int(x))\n",
    "\n",
    "s = \"42195\"\n",
    "print(int(s))\n",
    "\n",
    "sf = \"42.195\"\n",
    "int(sf) #ValueError: invalid literal for int() with base 10: '42.195\n",
    "float(sf)"
   ]
  },
  {
   "cell_type": "markdown",
   "metadata": {},
   "source": [
    "> 숫자를 문자열로 바꾸기: str()"
   ]
  },
  {
   "cell_type": "code",
   "execution_count": null,
   "metadata": {},
   "outputs": [],
   "source": [
    "a = 20\n",
    "b = 30\n",
    "print(a + b)\n",
    "a = str(a) # 20 -> '20'\n",
    "b = str(b) # 30 -> '30'\n",
    "print(a + b)"
   ]
  },
  {
   "cell_type": "code",
   "execution_count": 22,
   "metadata": {},
   "outputs": [
    {
     "name": "stdout",
     "output_type": "stream",
     "text": [
      "오늘의 날짜: 2022.1.5\n"
     ]
    }
   ],
   "source": [
    "# \"오늘의 날짜: 2022.1.5\"\n",
    "import datetime\n",
    "\n",
    "current = datetime.datetime.now()\n",
    "\n",
    "\n",
    "print(f\"오늘의 날짜: {current.year}.{current.month}.{current.day}\")"
   ]
  },
  {
   "cell_type": "code",
   "execution_count": 29,
   "metadata": {},
   "outputs": [
    {
     "name": "stdout",
     "output_type": "stream",
     "text": [
      "센치는 17.78cm 입니다\n"
     ]
    }
   ],
   "source": [
    "# 사용자로부터 인치(inch)를 입력받아 (cm) 리턴해주는 프로그램 작성\n",
    "\n",
    "inch = float(input(\"인치를 입력해주세요: \"))\n",
    "\n",
    "print(f\"센치는 {inch * 2.54}cm 입니다\")\n"
   ]
  }
 ],
 "metadata": {
  "interpreter": {
   "hash": "054c0b5073ae8ed56926c5c67113945079b283bacf1a269ae7086b3d9eebd60c"
  },
  "kernelspec": {
   "display_name": "Python 3.10.1 64-bit",
   "language": "python",
   "name": "python3"
  },
  "language_info": {
   "codemirror_mode": {
    "name": "ipython",
    "version": 3
   },
   "file_extension": ".py",
   "mimetype": "text/x-python",
   "name": "python",
   "nbconvert_exporter": "python",
   "pygments_lexer": "ipython3",
   "version": "3.10.1"
  },
  "orig_nbformat": 4
 },
 "nbformat": 4,
 "nbformat_minor": 2
}
