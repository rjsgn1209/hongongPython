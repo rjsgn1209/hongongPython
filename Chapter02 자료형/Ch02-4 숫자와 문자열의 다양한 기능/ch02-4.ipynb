{
 "cells": [
  {
   "cell_type": "markdown",
   "metadata": {},
   "source": [
    "### 02-4 숫자와 문자열의 다양한 기능\n",
    "---\n",
    "#### 시작하기 전에\n",
    "***문자열 자료형의 기능***즉, 내장 함수 알아보기\n"
   ]
  },
  {
   "cell_type": "code",
   "execution_count": null,
   "metadata": {},
   "outputs": [
    {
     "name": "stdout",
     "output_type": "stream",
     "text": [
      "LIFE IS SHORT\n",
      "11\n"
     ]
    }
   ],
   "source": [
    "# \"str\". 멤버함수호출()\n",
    "\n",
    "print(\"Life is short\".upper())\n",
    "print(\"I am string\".__len__())"
   ]
  },
  {
   "cell_type": "markdown",
   "metadata": {},
   "source": [
    "> 서식 지정자(format specifier)로 문자열 만들기"
   ]
  },
  {
   "cell_type": "code",
   "execution_count": null,
   "metadata": {},
   "outputs": [
    {
     "name": "stdout",
     "output_type": "stream",
     "text": [
      "철수의 평균 점수는 85.300000입니다.\n",
      "철수의 평균 점수는 85입니다.\n",
      "My name is BTS\n"
     ]
    }
   ],
   "source": [
    "# 철수의 평균 점수는 85.3점입니다.\n",
    "# 영희의 평균 점수는 75.3점입니다.\n",
    "# 길동의 평균 점수는 65.3점입니다.\n",
    "# 순이의 평균 점수는 95.3점입니다.\n",
    "\n",
    "# {변수}의 평균 점수는 {점수}점입니다.\n",
    "\n",
    "# 문자열 안에서 특정 부분을 원하는 값으로 바꿀 때 : 서식 지정자 또는 문자열 포매팅(format())을 사용한다.\n",
    "\n",
    "name = \"철수\" # str\n",
    "score = 85.3  # float\n",
    "print(\"%s의 평균 점수는 %f입니다.\"%(name, score)) # 실수\n",
    "print(\"%s의 평균 점수는 %d입니다.\"%(name, score)) # 정수\n",
    "\n",
    "name = 'BTS'\n",
    "print(\"My name is %s\" % name)"
   ]
  },
  {
   "cell_type": "code",
   "execution_count": null,
   "metadata": {},
   "outputs": [],
   "source": [
    "# 학급 학생들의 점수 출력하기\n",
    "import time\n",
    "\n",
    "names = [\"철수\", \"영희\", \"길산\", \"희경\", \"수진\",'영수']\n",
    "scores = [85, 98, 75, 83, 91, 88]\n",
    "\n",
    "for a in range(len(names)):\n",
    "    print(\"%s 학생의 점수는 %d점 입니다.\" %(names[a], scores[a]))\n",
    "    time.sleep(1)"
   ]
  },
  {
   "cell_type": "markdown",
   "metadata": {},
   "source": [
    "> 문자열 format() 함수 "
   ]
  },
  {
   "cell_type": "code",
   "execution_count": null,
   "metadata": {},
   "outputs": [
    {
     "name": "stdout",
     "output_type": "stream",
     "text": [
      "오늘은 2022년 1월 5일입니다.\n"
     ]
    }
   ],
   "source": [
    "# 문자열 안에서 정수 변수를 사용할 때\n",
    "year = 2022\n",
    "month = 1\n",
    "day = 5\n",
    "\n",
    "today = \"오늘은 2022년 1월 5일입니다\"\n",
    "today = \"오늘은 year년 month월 day일입니다\"\n",
    "today = \"오늘은 {}년 {}월 {}일입니다.\".format(year, month, day)\n",
    "\n",
    "print(today)"
   ]
  },
  {
   "cell_type": "code",
   "execution_count": null,
   "metadata": {},
   "outputs": [],
   "source": [
    "def call(number):\n",
    "    print(\"띵동~ {}번 고객님 접수창구로 와주세요.\".format(number))\n",
    "\n",
    "for i in [1,2,3,4,5,6,7,8,9]:\n",
    "    call(i)\n",
    "    time.sleep(1)"
   ]
  },
  {
   "cell_type": "code",
   "execution_count": null,
   "metadata": {},
   "outputs": [],
   "source": [
    "# format() 함수의 다양한 형태\n",
    "data1 = \"{}만원\".format(5000)\n",
    "data2 = \"{}M, {}M, {}M 달리기\".format(100, 400, 800)\n",
    "# 인덱스 사용\n",
    "\n",
    "data3 = \"Programming Language {} {} {}\".format(\"Python\", \"Scrip\", \"3.10.1\")\n",
    "\n",
    "data4 = \"{1} {0} {1} {0}\".format(\"Python\", \"Script\")\n",
    "print(data4)\n",
    "\n",
    "# 인덱스 대신 변수명 지정하기\n",
    "data5 = \"Hello, {lan} {ver}\".format(lan='python', ver=\"3.10.1\")\n",
    "print(data5)\n",
    "\n",
    "# 변수명 그대로 사용하기\n",
    "lan = 'Java'\n",
    "ver = '11'\n",
    "data6 = f\"Hello, {lan} {ver}\"\n",
    "print(data6)"
   ]
  },
  {
   "cell_type": "markdown",
   "metadata": {},
   "source": [
    "> IndexError 예외 : { } 인덱스 개수가 함수 매개변수 개수보다 많은경우"
   ]
  },
  {
   "cell_type": "code",
   "execution_count": null,
   "metadata": {},
   "outputs": [],
   "source": [
    "print(\"{} {}\".format(1,2,3,4,5))\n",
    "print(\"{} {} {}\".format(1,2))"
   ]
  },
  {
   "cell_type": "markdown",
   "metadata": {},
   "source": [
    "> format() 함수의 다양한 기능: 숫자 관련"
   ]
  },
  {
   "cell_type": "code",
   "execution_count": null,
   "metadata": {},
   "outputs": [],
   "source": [
    "output_a = \"{:d}\".format(52)\n",
    "print(output_a)\n",
    "\n",
    "output_a = \"{:s}\".format(\"52\")\n",
    "print(output_a)\n",
    "\n",
    "output_a = \"{:5d}\".format(52)\n",
    "print(output_a)\n",
    "\n",
    "output_a = \"{:05d}\".format(52)\n",
    "print(output_a)\n",
    "\n",
    "print(\"[지출내역]\")\n",
    "cost1 = \"{:5d} (만원)\".format(1200)\n",
    "cost2 = \"{:5d} (만원)\".format(200)\n",
    "cost3 = \"{:5d} (만원)\".format(15)\n",
    "cost4 = \"{:5d} (만원)\".format(3500)\n",
    "cost5 = \"{:5d} (만원)\".format(1200)\n",
    "print(cost1)\n",
    "print(cost2)\n",
    "print(cost3)\n",
    "print(cost4)\n",
    "print(cost5)\n"
   ]
  },
  {
   "cell_type": "code",
   "execution_count": null,
   "metadata": {},
   "outputs": [
    {
     "name": "stdout",
     "output_type": "stream",
     "text": [
      "+55\n",
      "-55\n"
     ]
    }
   ],
   "source": [
    "# 기호와 함꼐 출력하기\n",
    "output_a = \"{:+d}\".format(55)\n",
    "print(output_a)\n",
    "\n",
    "output_b = \"{:+d}\".format(-55)\n",
    "print(output_b)"
   ]
  },
  {
   "cell_type": "code",
   "execution_count": null,
   "metadata": {},
   "outputs": [],
   "source": [
    "print(\"{:+5d}\".format(52))\n",
    "print(\"{:=+05d}\".format(52))"
   ]
  },
  {
   "cell_type": "code",
   "execution_count": null,
   "metadata": {},
   "outputs": [
    {
     "name": "stdout",
     "output_type": "stream",
     "text": [
      "+00000003.14159\n"
     ]
    }
   ],
   "source": [
    "print(\"{:+015.5f}\".format(3.141592))"
   ]
  },
  {
   "cell_type": "markdown",
   "metadata": {},
   "source": [
    "> 대소문자 바꾸기 : upper()와 lower()"
   ]
  },
  {
   "cell_type": "code",
   "execution_count": null,
   "metadata": {},
   "outputs": [
    {
     "data": {
      "text/plain": [
       "'Hello python programming...!'"
      ]
     },
     "execution_count": 54,
     "metadata": {},
     "output_type": "execute_result"
    }
   ],
   "source": [
    "sentence = \"Hello Python Programming...!\"\n",
    "sentence.upper()\n",
    "sentence.lower()\n",
    "sentence.capitalize()"
   ]
  },
  {
   "cell_type": "markdown",
   "metadata": {},
   "source": [
    "> 문자열 공백 제거하기 :strip(), lstrip(), rstrip()"
   ]
  },
  {
   "cell_type": "code",
   "execution_count": null,
   "metadata": {},
   "outputs": [
    {
     "name": "stdout",
     "output_type": "stream",
     "text": [
      "입력값:                       Python\n",
      "28\n",
      "Python\n",
      "6\n"
     ]
    }
   ],
   "source": [
    "input_data = \"                      Python\"\n",
    "print(f\"입력값: {input_data}\")\n",
    "print(len(input_data))\n",
    "\n",
    "sentence = input_data.strip()\n",
    "print(sentence)\n",
    "print(len(sentence))"
   ]
  },
  {
   "cell_type": "markdown",
   "metadata": {},
   "source": [
    "> 특정 문자 제거하기"
   ]
  },
  {
   "cell_type": "code",
   "execution_count": null,
   "metadata": {},
   "outputs": [],
   "source": [
    "input_data = \", Python. / *\"\n",
    "print(f\"input_data : {input_data}\")\n",
    "\n",
    "strip_data = input_data.strip(\",. / *\")\n",
    "print(strip_data)\n",
    "print(len(strip_data))\n",
    "\n",
    "# 구두점을 간단하게 삭제하는 방법\n",
    "import string\n",
    "print(string.punctuation)\n",
    "input_data = \"!\\\"#$%&'()*+,-python./:;<=>?@[\\]^_`{|}~\"\n",
    "strip_data = input_data.strip(string.punctuation).upper() # 메서드 체이닝(method chaining)\n",
    "print(strip_data)\n"
   ]
  },
  {
   "cell_type": "markdown",
   "metadata": {},
   "source": [
    "> 문자열의 구성 파악하기: is___()"
   ]
  },
  {
   "cell_type": "code",
   "execution_count": null,
   "metadata": {},
   "outputs": [
    {
     "data": {
      "text/plain": [
       "True"
      ]
     },
     "execution_count": 79,
     "metadata": {},
     "output_type": "execute_result"
    }
   ],
   "source": [
    "# 불(bool) 자료형 리턴\n",
    "\"abc123\".isalnum()\n",
    "\"abc\".isalpha()\n",
    "\"123\".isnumeric()\n",
    "\"123.45\".isdecimal()\n",
    "\"12345\".isdigit()\n",
    "\"ABCD\".isupper()\n",
    "\n",
    "name = \"123\"\n",
    "if name.isalpha():\n",
    "    print(\"다음 단계로 이동\")\n",
    "else:\n",
    "    print(\"문자를 입력하세요\")"
   ]
  },
  {
   "cell_type": "markdown",
   "metadata": {},
   "source": [
    "> 문자열 위치 찾기 : find() rfind()"
   ]
  },
  {
   "cell_type": "code",
   "execution_count": null,
   "metadata": {},
   "outputs": [
    {
     "data": {
      "text/plain": [
       "12"
      ]
     },
     "execution_count": 88,
     "metadata": {},
     "output_type": "execute_result"
    }
   ],
   "source": [
    "# find() : 왼쪽부터 찾아서 처음 등장하는 위치를 반환\n",
    "# rfind() : 오른쪽부터 찾아서 처음 등장하는 위치를 반환\n",
    "\n",
    "i = '0.1234567891234'\n",
    "s = 'apple pineapple'\n",
    "\n",
    "s.find(\"pl\")\n",
    "s.rfind(\"pl\")"
   ]
  },
  {
   "cell_type": "markdown",
   "metadata": {},
   "source": [
    "> 문자열과 in 연산자"
   ]
  },
  {
   "cell_type": "code",
   "execution_count": null,
   "metadata": {},
   "outputs": [
    {
     "name": "stdout",
     "output_type": "stream",
     "text": [
      "True\n",
      "True\n",
      "2\n"
     ]
    }
   ],
   "source": [
    "# 문자열 내부에 어떤(지정한) 문자열이 있는지 확인하기\n",
    "print(\"pine\" in s)\n",
    "\n",
    "sentence = \"\"\"\n",
    "The core of extensible programming is defininf functions.\n",
    "Python allows mandatory and optional arguments,\n",
    "keyword arguments, and even arbitrary argument lists.\n",
    "\"\"\"\n",
    "print(\"Python\" in sentence)\n",
    "\n",
    "# 문자열 개수 세기 : count() 특정문자열이 몇 번 나오는지 알라내기\n",
    "print(sentence.count(\"arguments\"))"
   ]
  },
  {
   "cell_type": "markdown",
   "metadata": {},
   "source": [
    "> 문자열 자르기 : split()"
   ]
  },
  {
   "cell_type": "code",
   "execution_count": 12,
   "metadata": {},
   "outputs": [
    {
     "name": "stdout",
     "output_type": "stream",
     "text": [
      "['10', '20', '30', '40']\n",
      "['apple', 'pear', 'grage', 'pineapple', 'orange']\n",
      "['baseball', 'football', 'golf', 'boxing', 'basketball']\n",
      "baseball\n",
      "football\n",
      "golf\n",
      "boxing\n",
      "basketball\n",
      "baseball\n",
      "football\n",
      "golf\n",
      "boxing\n",
      "basketball\n",
      "baseball football golf boxing basketball "
     ]
    }
   ],
   "source": [
    "# 문자열을 특정 문자로 자를 때 사용\n",
    "li = \"10 20 30 40\".split()\n",
    "print(li)\n",
    "\n",
    "fruits = \"apple pear grage pineapple orange\"\n",
    "li = fruits.split()\n",
    "print(li)\n",
    "\n",
    "sports = \"baseball/football/golf/boxing/basketball\"\n",
    "li = sports.split('/')\n",
    "print(li)\n",
    "\n",
    "for i in ['baseball', 'football', 'golf', 'boxing', 'basketball']:\n",
    "    print(i)\n",
    "\n",
    "for i in li:\n",
    "    print(i)\n",
    "\n",
    "for i in range(len(li)):\n",
    "    print(li[i], end=' ')\n",
    "\n"
   ]
  },
  {
   "cell_type": "code",
   "execution_count": 14,
   "metadata": {},
   "outputs": [
    {
     "name": "stdout",
     "output_type": "stream",
     "text": [
      "['2022', '1', '5']\n",
      "오늘은 2022년 1월 5일입니다.\n"
     ]
    }
   ],
   "source": [
    "date = \"2022.1.5\"\n",
    "li = date.split('.')\n",
    "print(li)\n",
    "\n",
    "year = li[0]\n",
    "month = li[1]\n",
    "day = li[2]\n",
    "\n",
    "print(f\"오늘은 {year}년 {month}월 {day}일입니다.\")"
   ]
  },
  {
   "cell_type": "markdown",
   "metadata": {},
   "source": [
    "> 사용자로부터 입력 받은 모든 정수의 합을 리턴해주는 프로그램 작성 : input_split.py"
   ]
  },
  {
   "cell_type": "code",
   "execution_count": 20,
   "metadata": {},
   "outputs": [
    {
     "name": "stdout",
     "output_type": "stream",
     "text": [
      "21\n"
     ]
    }
   ],
   "source": [
    "num = input(\"값을 입력해주세요: \")\n",
    "split_num = num.split()\n",
    "sum = 0\n",
    "for a in split_num:\n",
    "    sum += int(a)\n",
    "print(sum)\n",
    "    "
   ]
  },
  {
   "cell_type": "code",
   "execution_count": 24,
   "metadata": {},
   "outputs": [
    {
     "name": "stdout",
     "output_type": "stream",
     "text": [
      "60\n"
     ]
    }
   ],
   "source": [
    "del(sum)\n",
    "\n",
    "li = list(map(int,input().split()))\n",
    "print(sum(li))"
   ]
  }
 ],
 "metadata": {
  "interpreter": {
   "hash": "054c0b5073ae8ed56926c5c67113945079b283bacf1a269ae7086b3d9eebd60c"
  },
  "kernelspec": {
   "display_name": "Python 3.10.1 64-bit",
   "language": "python",
   "name": "python3"
  },
  "language_info": {
   "codemirror_mode": {
    "name": "ipython",
    "version": 3
   },
   "file_extension": ".py",
   "mimetype": "text/x-python",
   "name": "python",
   "nbconvert_exporter": "python",
   "pygments_lexer": "ipython3",
   "version": "3.10.1"
  },
  "orig_nbformat": 4
 },
 "nbformat": 4,
 "nbformat_minor": 2
}
