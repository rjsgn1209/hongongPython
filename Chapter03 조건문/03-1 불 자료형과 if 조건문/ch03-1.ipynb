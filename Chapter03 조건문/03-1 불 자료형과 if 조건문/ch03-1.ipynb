{
 "cells": [
  {
   "cell_type": "markdown",
   "metadata": {},
   "source": [
    "### 03-1 불 자료형과 if 조건문\n",
    "---\n",
    "#### 시작하기 전에\n",
    "***Boolean***은 **불린**또는 **불리언**: **True**(참)과 **Fales**(거짓)을 나타내는 값"
   ]
  },
  {
   "cell_type": "code",
   "execution_count": 1,
   "metadata": {},
   "outputs": [
    {
     "name": "stdout",
     "output_type": "stream",
     "text": [
      "True False <class 'bool'>\n"
     ]
    }
   ],
   "source": [
    "a = True\n",
    "b = False\n",
    "print(a,b, type(a))"
   ]
  },
  {
   "cell_type": "markdown",
   "metadata": {},
   "source": [
    "> bool 만들기 : 비교연산자"
   ]
  },
  {
   "cell_type": "code",
   "execution_count": null,
   "metadata": {},
   "outputs": [],
   "source": [
    "# 숫자 비교\n",
    "print(10 == 100)\n",
    "print(10 != 100)\n",
    "print(10 < 100)\n",
    "print(10 > 100)\n",
    "print(10 >= 100)\n",
    "print(10 <= 100)\n"
   ]
  },
  {
   "cell_type": "code",
   "execution_count": null,
   "metadata": {},
   "outputs": [],
   "source": [
    "# 문자열 비교\n",
    "print(\"KOR\" == \"kor\")\n",
    "print(\"KOR\" == \"KOR\")\n",
    "print(\"가방\" != \"KOR\")\n",
    "print(\"A\" != \"a\")\n",
    "print(\"가방\" > \"하마\")\n",
    "\n",
    "print(ord(\"가\") + ord(\"방\"))\n",
    "print(ord(\"하\") + ord(\"마\"))\n",
    "\n"
   ]
  },
  {
   "cell_type": "code",
   "execution_count": null,
   "metadata": {},
   "outputs": [],
   "source": [
    "# 범위 비교하기\n",
    "x = 28\n",
    "print(25 <= x < 30)"
   ]
  },
  {
   "cell_type": "markdown",
   "metadata": {},
   "source": [
    "> bool 연산하기 : 논리 연산자"
   ]
  },
  {
   "cell_type": "code",
   "execution_count": null,
   "metadata": {},
   "outputs": [],
   "source": [
    "# bool 끼리 연산 : 논리 연산자(not, and, or)\n",
    "\n",
    "# and 는 All 모든 값이 True 이어야 True 반환\n",
    "\n",
    "# or 는 Any 어는 하나라도 True 이면 True 반환\n",
    "\n",
    "# not 은 논리값 뒤집기(반대)\n",
    "\n",
    "# 논리 연산자 우선순위 : not > and > or"
   ]
  },
  {
   "cell_type": "markdown",
   "metadata": {},
   "source": [
    "> 논리 연산자와 비교 연산자를 함께 사용"
   ]
  },
  {
   "cell_type": "code",
   "execution_count": 21,
   "metadata": {},
   "outputs": [
    {
     "data": {
      "text/plain": [
       "False"
      ]
     },
     "execution_count": 21,
     "metadata": {},
     "output_type": "execute_result"
    }
   ],
   "source": [
    "# 비교 연산자로 비교한 결과를 논리 연산자로 최종 리턴\n",
    "10 == 10 and 10 != 5\n",
    "not 10 > 5"
   ]
  },
  {
   "cell_type": "markdown",
   "metadata": {},
   "source": [
    "> 자료형의 참과 거짓 bool() 내장(built-in) 함수"
   ]
  },
  {
   "cell_type": "code",
   "execution_count": null,
   "metadata": {},
   "outputs": [],
   "source": [
    "#print(1 + True)\n",
    "\n",
    "# 0, 0.0 이외의 모든 숫자는 True\n",
    "bool(1234)\n",
    "bool(-1)\n",
    "bool(0)\n",
    "bool(3.14)\n",
    "bool(0.0)\n",
    "\n",
    "#print(1 + False)\n",
    "\n",
    "# '', \"\" 제회한 모든 문자열(공백포함) Ture \n",
    "bool(\"문자열\") # True\n",
    "bool('')       # False\n",
    "\n",
    "# (), {} 등 빈 컨테이너(리스트, 튜플, 딕셔너리 등의 값이 비어 있는 경울)를 제외한 \n",
    "# 모든 자료형 True\n",
    "bool([1,2,3])\n",
    "bool([])"
   ]
  },
  {
   "cell_type": "markdown",
   "metadata": {},
   "source": [
    "> 단란 평가(short-circuit evalution) : 표현식에 대한 평가를 생략하는 방법"
   ]
  },
  {
   "cell_type": "code",
   "execution_count": null,
   "metadata": {},
   "outputs": [],
   "source": [
    "# 첫 번째 값이 거짓,  두 번째 값은 확인하지 않고 거짓으로 결정\n",
    "False and True\n",
    "10 < 1 and 3 == 3 and 4 % 2 == 0\n",
    "\n",
    "# 첫 번째 값이 참이므로 두 번째 값은 확인하지 않고 참으로 결정\n",
    "True or True\n",
    "True or False\n",
    "10 < 1 or 3 == 3 or 4 % 2 == 0\n",
    "\n",
    "#논리연산을 연결할 때 논리판단식의 순서에 따라서 프로그램의 성능에 영향을 준다."
   ]
  },
  {
   "cell_type": "markdown",
   "metadata": {},
   "source": [
    "> bool 의 사용 : if, while 등 조건식을 만들때 사용"
   ]
  },
  {
   "cell_type": "code",
   "execution_count": 38,
   "metadata": {},
   "outputs": [
    {
     "name": "stdout",
     "output_type": "stream",
     "text": [
      "참\n",
      "13은 홀수 입니다.\n",
      "[]\n",
      "False\n"
     ]
    }
   ],
   "source": [
    "if(True):\n",
    "    print(\"참\")\n",
    "\n",
    "n =13\n",
    "if n % 2 == 0:\n",
    "    print(f\"{n}은 짝수 입니다.\")\n",
    "else:\n",
    "    print(f\"{n}은 홀수 입니다.\")\n",
    "\n",
    "li = []\n",
    "print(li)\n",
    "print(bool(li))"
   ]
  },
  {
   "cell_type": "code",
   "execution_count": 41,
   "metadata": {},
   "outputs": [
    {
     "name": "stdout",
     "output_type": "stream",
     "text": [
      "참\n",
      "['a', 'b', 'c', 'd', 'e', 'f']\n",
      "['a', 'b', 'c', 'd', 'e']\n",
      "['a', 'b', 'c', 'd']\n",
      "['a', 'b', 'c']\n",
      "['a', 'b']\n",
      "['a']\n",
      "[]\n"
     ]
    }
   ],
   "source": [
    "# 프로그램에서 참과 거짓의 쓰임새 : while\n",
    "\n",
    "if [1, 2, 3]:\n",
    "    print(\"참\")\n",
    "else:\n",
    "    print(\"거짓\")\n",
    "\n",
    "a = ['a','b','c','d','e','f']\n",
    "print(a)\n",
    "\n",
    "while a:\n",
    "    a.pop()\n",
    "    print(a)"
   ]
  },
  {
   "cell_type": "markdown",
   "metadata": {},
   "source": [
    "> if 조건문 : 조건에 따라 코드의 실행을 분기하고자 할 때(실행의 흐름을 제어)"
   ]
  },
  {
   "cell_type": "code",
   "execution_count": null,
   "metadata": {},
   "outputs": [],
   "source": [
    "score = 55\n",
    "CUT_LINE = 60\n",
    "if score >= CUT_LINE:\n",
    "    print(\"합격 하셨습니다.\")\n",
    "    print(\"축하드립니다.\")\n",
    "else:\n",
    "    print(\"불합격입니다.\")"
   ]
  },
  {
   "cell_type": "code",
   "execution_count": 4,
   "metadata": {},
   "outputs": [
    {
     "name": "stdout",
     "output_type": "stream",
     "text": [
      "양수입니다.\n"
     ]
    }
   ],
   "source": [
    "# 사용자로부터 정수를 입력받아 양수, 음수를 판별하는 프로그램 작성(입력데이터 유효성 검증 처리 할 것)\n",
    "\n",
    "try:\n",
    "    num = int(input(\"정수를 입력해주세요: \"))\n",
    "    if num < 0:\n",
    "        print(\"음수입니다.\")\n",
    "    elif num > 0:\n",
    "        print(\"양수입니다.\")\n",
    "    else:\n",
    "        print(\"0입니다.\")\n",
    "except:\n",
    "    print(\"값이 잘못되었습니다.\")\n",
    "    "
   ]
  },
  {
   "cell_type": "code",
   "execution_count": 3,
   "metadata": {},
   "outputs": [
    {
     "name": "stdout",
     "output_type": "stream",
     "text": [
      "숫자가 아닙니다.\n",
      "프로그램을 종료합니다.\n"
     ]
    },
    {
     "ename": "TypeError",
     "evalue": "'>' not supported between instances of 'NoneType' and 'int'",
     "output_type": "error",
     "traceback": [
      "\u001b[1;31m---------------------------------------------------------------------------\u001b[0m",
      "\u001b[1;31mTypeError\u001b[0m                                 Traceback (most recent call last)",
      "\u001b[1;32m~\\AppData\\Local\\Temp/ipykernel_8904/503716092.py\u001b[0m in \u001b[0;36m<module>\u001b[1;34m\u001b[0m\n\u001b[0;32m     15\u001b[0m \u001b[1;33m\u001b[0m\u001b[0m\n\u001b[0;32m     16\u001b[0m \u001b[1;31m# 양수/음수 판별\u001b[0m\u001b[1;33m\u001b[0m\u001b[1;33m\u001b[0m\u001b[0m\n\u001b[1;32m---> 17\u001b[1;33m \u001b[1;32mif\u001b[0m \u001b[0mnumber\u001b[0m \u001b[1;33m>\u001b[0m \u001b[1;36m0\u001b[0m\u001b[1;33m:\u001b[0m\u001b[1;33m\u001b[0m\u001b[1;33m\u001b[0m\u001b[0m\n\u001b[0m\u001b[0;32m     18\u001b[0m     \u001b[0mprint\u001b[0m\u001b[1;33m(\u001b[0m\u001b[1;34m\"양수입니다.\"\u001b[0m\u001b[1;33m)\u001b[0m\u001b[1;33m\u001b[0m\u001b[1;33m\u001b[0m\u001b[0m\n\u001b[0;32m     19\u001b[0m \u001b[1;32melif\u001b[0m \u001b[0mnumber\u001b[0m \u001b[1;33m<\u001b[0m \u001b[1;36m0\u001b[0m\u001b[1;33m:\u001b[0m\u001b[1;33m\u001b[0m\u001b[1;33m\u001b[0m\u001b[0m\n",
      "\u001b[1;31mTypeError\u001b[0m: '>' not supported between instances of 'NoneType' and 'int'"
     ]
    }
   ],
   "source": [
    "input_data = input(\"정수를 하나 입력하세요: \")\n",
    "number = None\n",
    "\n",
    "# 입력데이터 유효성 검증\n",
    "\n",
    "# 문자열이라면...\n",
    "if not input_data.isalpha():\n",
    "    number = int(input_data)\n",
    "    print(\"입력값:\", number)\n",
    "# 문자열이라면...\n",
    "else:\n",
    "    print(\"숫자가 아닙니다.\")\n",
    "    print(\"프로그램을 종료합니다.\")\n",
    "    quit()\n",
    "\n",
    "# 양수/음수 판별\n",
    "if number > 0:\n",
    "    print(\"양수입니다.\")\n",
    "elif number < 0:\n",
    "    print(\"음수입니다.\")\n",
    "else:\n",
    "    print(\"0입니다.\")\n"
   ]
  }
 ],
 "metadata": {
  "interpreter": {
   "hash": "054c0b5073ae8ed56926c5c67113945079b283bacf1a269ae7086b3d9eebd60c"
  },
  "kernelspec": {
   "display_name": "Python 3.10.1 64-bit",
   "language": "python",
   "name": "python3"
  },
  "language_info": {
   "codemirror_mode": {
    "name": "ipython",
    "version": 3
   },
   "file_extension": ".py",
   "mimetype": "text/x-python",
   "name": "python",
   "nbconvert_exporter": "python",
   "pygments_lexer": "ipython3",
   "version": "3.10.1"
  },
  "orig_nbformat": 4
 },
 "nbformat": 4,
 "nbformat_minor": 2
}
